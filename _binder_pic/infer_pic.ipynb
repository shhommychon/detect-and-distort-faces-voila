{
 "cells": [
  {
   "cell_type": "code",
   "execution_count": null,
   "metadata": {},
   "outputs": [],
   "source": [
    "# 모델 불러오기\n",
    "\n",
    "from detect_faces.ssd import build_deepface_ssd\n",
    "detector = build_deepface_ssd()\n",
    "\n",
    "from recognize_faces.deepid import build_deepface_deepid\n",
    "recognizer = build_deepface_deepid()"
   ]
  },
  {
   "cell_type": "code",
   "execution_count": null,
   "metadata": {},
   "outputs": [],
   "source": [
    "# 초기 얼굴 벡터 DB\n",
    "\n",
    "from helper.data_manager import load_embeddings_to_df\n",
    "EMB_DB = load_embeddings_to_df()"
   ]
  },
  {
   "cell_type": "markdown",
   "metadata": {},
   "source": [
    "# 모자이크 데모 (사진 버젼)"
   ]
  },
  {
   "cell_type": "code",
   "execution_count": null,
   "metadata": {},
   "outputs": [],
   "source": [
    "import hashlib\n",
    "import ipywidgets as widgets\n",
    "from IPython.display import display"
   ]
  },
  {
   "cell_type": "code",
   "execution_count": null,
   "metadata": {},
   "outputs": [],
   "source": [
    "# 새로 등록할 사람의 이름을 입력\n",
    "\n",
    "name_text = widgets.Text(\n",
    "    placeholder='이름을 영어로 입력하세요',\n",
    "    description='Name:',\n",
    "    disabled=False\n",
    ")\n",
    "\n",
    "display(name_text)"
   ]
  },
  {
   "cell_type": "code",
   "execution_count": null,
   "metadata": {},
   "outputs": [],
   "source": [
    "# 새로 등록할 사람의 얼굴 사진을 업로드\n",
    "\n",
    "import cv2\n",
    "\n",
    "from detect_faces.ssd import detect_faces\n",
    "from recognize_faces.deepid import preprocess_deepid_input, face_to_embedding\n",
    "from helper.data_manager import DB_DIR\n",
    "\n",
    "\n",
    "file_uploader = widgets.FileUpload(\n",
    "    accept='image/*',\n",
    "    multiple=False\n",
    ")\n",
    "\n",
    "\n",
    "def upload_image_file(change):\n",
    "    global EMB_DB\n",
    "    \n",
    "    original_file_name = list(file_uploader.value.keys())[0].split('.')\n",
    "    ext = original_file_name[-1]\n",
    "    image_content_b = list(file_uploader.value.values())[0][\"content\"]\n",
    "    \n",
    "    hash_obj = hashlib.new('sha224')\n",
    "    hash_obj.update(image_content_b)\n",
    "    new_file_name = hash_obj.hexdigest()[:10] + '.' + ext # 랜덤하게 업로드 된 사진 파일 이름을 재설정\n",
    "    \n",
    "    # 메모리에 업로드 된 사진을 DB 폴더에 저장\n",
    "    person_name = name_text.value\n",
    "    if not os.path.exists(os.path.join(DB_DIR, person_name)):\n",
    "        os.mkdir(os.path.join(DB_DIR, person_name))\n",
    "    with open(os.path.join(DB_DIR, person_name, new_file_name+'.'+ext), \"wb\") as fp:\n",
    "        fp.write(image_content_b)\n",
    "\n",
    "    # 사진을 불러오고 임베딩 벡터를 생성\n",
    "    img = cv2.imread(os.path.join(DB_DIR, person_name, new_file_name+'.'+ext))\n",
    "    faces = detect_faces(detector, img)\n",
    "    if faces:\n",
    "        for face in faces:\n",
    "            detected_face, region_xywh = face\n",
    "            break # 한개의 얼굴만 DB에 등록\n",
    "    preprocessed_face = preprocess_deepid_input(detected_face, region_xywh, return_region=False)\n",
    "    output = face_to_embedding(recognizer, preprocessed_face)\n",
    "\n",
    "    # 임베딩 벡터를 저장\n",
    "    save_embedding_to_db(person_name, new_file_name+\".pkl\", output)\n",
    "    cv2.imwrite(os.path.join(DB_DIR, person_name, new_file_name+'_debug.'+ext), preprocessed_face)\n",
    "    # os.remove(os.path.join(DB_DIR, person_name, new_file_name+'.'+ext)) # 사진 삭제\n",
    "    \n",
    "    EMB_DB = load_embeddings_to_df()\n",
    "\n",
    "\n",
    "file_uploader.observe(upload_image_file, names='_counter')\n",
    "\n",
    "display(file_uploader)"
   ]
  }
 ],
 "metadata": {
  "language_info": {
   "name": "python"
  },
  "orig_nbformat": 4
 },
 "nbformat": 4,
 "nbformat_minor": 2
}
