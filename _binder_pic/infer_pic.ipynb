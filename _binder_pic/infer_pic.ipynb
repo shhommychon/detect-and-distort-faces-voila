{
 "cells": [
  {
   "cell_type": "code",
   "execution_count": null,
   "metadata": {},
   "outputs": [],
   "source": [
    "import os; HOME_DIR = os.getcwd()\r\n",
    "import sys\r\n",
    "sys.path.append('/'.join(HOME_DIR.split('/')[:-1]))"
   ]
  },
  {
   "cell_type": "code",
   "execution_count": null,
   "metadata": {},
   "outputs": [],
   "source": [
    "# 모델 불러오기\r\n",
    "\r\n",
    "from detect_faces.ssd import build_deepface_ssd\r\n",
    "detector = build_deepface_ssd()\r\n",
    "\r\n",
    "from recognize_faces.deepid import build_deepface_deepid\r\n",
    "recognizer = build_deepface_deepid()"
   ]
  },
  {
   "cell_type": "code",
   "execution_count": null,
   "metadata": {},
   "outputs": [],
   "source": [
    "# 초기 얼굴 벡터 DB\n",
    "\n",
    "from helper.data_manager import load_embeddings_to_df\n",
    "EMB_DB = load_embeddings_to_df()"
   ]
  },
  {
   "cell_type": "markdown",
   "metadata": {},
   "source": [
    "# 모자이크 데모 (사진 버젼)"
   ]
  },
  {
   "cell_type": "code",
   "execution_count": null,
   "metadata": {},
   "outputs": [],
   "source": [
    "import hashlib\n",
    "import ipywidgets as widgets\n",
    "from IPython.display import display"
   ]
  },
  {
   "cell_type": "code",
   "execution_count": null,
   "metadata": {},
   "outputs": [],
   "source": [
    "# 새로 등록할 사람의 이름을 입력\n",
    "\n",
    "name_text = widgets.Text(\n",
    "    placeholder='이름을 영어로 입력하세요',\n",
    "    description='Name:',\n",
    "    disabled=False\n",
    ")\n",
    "\n",
    "display(name_text)"
   ]
  },
  {
   "cell_type": "code",
   "execution_count": null,
   "metadata": {},
   "outputs": [],
   "source": [
    "# 새로 등록할 사람의 얼굴 사진을 업로드\r\n",
    "\r\n",
    "import cv2\r\n",
    "\r\n",
    "from detect_faces.ssd import detect_faces\r\n",
    "from recognize_faces.deepid import preprocess_deepid_input, face_to_embedding\r\n",
    "from helper.data_manager import DB_DIR, save_embedding_to_db\r\n",
    "\r\n",
    "\r\n",
    "file_uploader = widgets.FileUpload(\r\n",
    "    accept='image/*',\r\n",
    "    multiple=False\r\n",
    ")\r\n",
    "\r\n",
    "\r\n",
    "def upload_image_file(change):\r\n",
    "    global EMB_DB\r\n",
    "    \r\n",
    "    original_file_name = list(file_uploader.value.keys())[0].split('.')\r\n",
    "    ext = original_file_name[-1]\r\n",
    "    image_content_b = list(file_uploader.value.values())[0][\"content\"]\r\n",
    "    \r\n",
    "    hash_obj = hashlib.new('sha224')\r\n",
    "    hash_obj.update(image_content_b)\r\n",
    "    new_file_name = hash_obj.hexdigest()[:10] # 랜덤하게 업로드 된 사진 파일 이름을 재설정\r\n",
    "    \r\n",
    "    # 메모리에 업로드 된 사진을 DB 폴더에 저장\r\n",
    "    person_name = name_text.value\r\n",
    "    if not os.path.exists(os.path.join(DB_DIR, person_name)):\r\n",
    "        os.mkdir(os.path.join(DB_DIR, person_name))\r\n",
    "    with open(os.path.join(DB_DIR, person_name, new_file_name+'.'+ext), \"wb\") as fp:\r\n",
    "        fp.write(image_content_b)\r\n",
    "\r\n",
    "    # 사진을 불러오고 임베딩 벡터를 생성\r\n",
    "    img = cv2.imread(os.path.join(DB_DIR, person_name, new_file_name+'.'+ext))\r\n",
    "    faces = detect_faces(detector, img)\r\n",
    "    if faces:\r\n",
    "        for face in faces:\r\n",
    "            detected_face, region_xywh = face\r\n",
    "            break # 한개의 얼굴만 DB에 등록\r\n",
    "    preprocessed_face = preprocess_deepid_input(detected_face, region_xywh, return_region=False)\r\n",
    "    output = face_to_embedding(recognizer, preprocessed_face)\r\n",
    "\r\n",
    "    # 임베딩 벡터를 저장\r\n",
    "    save_embedding_to_db(person_name, new_file_name+\".pkl\", output)\r\n",
    "    debug_face = preprocessed_face.squeeze(0) * 255\r\n",
    "    cv2.imwrite(os.path.join(DB_DIR, person_name, new_file_name+'_debug.'+ext), debug_face)\r\n",
    "    # os.remove(os.path.join(DB_DIR, person_name, new_file_name+'.'+ext)) # 사진 삭제\r\n",
    "    \r\n",
    "    EMB_DB = load_embeddings_to_df()\r\n",
    "\r\n",
    "\r\n",
    "file_uploader.observe(upload_image_file, names='_counter')\r\n",
    "\r\n",
    "display(file_uploader)"
   ]
  }
 ],
 "metadata": {
  "interpreter": {
   "hash": "579b2a23398ba6d1dd2fc5977c9de110367169a6d3147e9ef13383460aab7f89"
  },
  "kernelspec": {
   "display_name": "Python 3.8.7 64-bit",
   "name": "python3"
  },
  "language_info": {
   "name": "python",
   "version": ""
  },
  "orig_nbformat": 4
 },
 "nbformat": 4,
 "nbformat_minor": 2
}